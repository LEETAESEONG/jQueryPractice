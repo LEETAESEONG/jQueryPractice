{
 "cells": [
  {
   "cell_type": "markdown",
   "metadata": {},
   "source": [
    "# AJAX\n",
    "---\n",
    "### AJAX = Asynchronous JavaScript and XML\n",
    "- 전체 페이지를 다시 로드하지 않고 서버와 데이터를 교환하고 웹 페이지의 일부를 업데이트하는 기술\n"
   ]
  }
 ],
 "metadata": {
  "language_info": {
   "name": "python"
  }
 },
 "nbformat": 4,
 "nbformat_minor": 2
}
