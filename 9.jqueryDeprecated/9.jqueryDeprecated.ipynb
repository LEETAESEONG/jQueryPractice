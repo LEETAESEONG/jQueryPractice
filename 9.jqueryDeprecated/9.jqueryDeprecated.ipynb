{
 "cells": [
  {
   "cell_type": "markdown",
   "metadata": {},
   "source": [
    "# Deprecated\n",
    "\n",
    "https://api.jquery.com/category/deprecated/\n",
    "\n",
    "| 1.3 | 1.7 | 1.8 | 1.9 | 1.10 | 3.0 | 3.2 |\n",
    "| ------ | ------ | ------ | ------ | ------ | ------ | ------ |\n",
    "| jQuery.boxModel | deferred.isRejected() | .andSelf() | jQuery.support | .context | .bind() | jQuery.holdReady() |\n",
    "| jQuery.browser | deferred.isResolved() | deferred.pipe() |  |  | .delegate() | jQuery.isArray() |\n",
    "|  | .die() | .error() |  |  | .undelegate() |  | \n",
    "|  | jQuery.sub() | .load() |  |  | jQuery.fx.interval |  | \n",
    "|  | .live() | .size() |  |  | jQuery.parseJSON() |  | \n",
    "|  | .selector | .toggle() |  |  | jQuery.unique() |  | \n",
    "|  |  | .unload() |  |  | .unbind() |  | \n"
   ]
  },
  {
   "cell_type": "markdown",
   "metadata": {},
   "source": [
    "### 3.3\n",
    "- .blur()\n",
    "    - Instead of .blur( handler ) or .blur( eventData, handler ), use ``.on( \"blur\", handler )`` or .``on( \"blur\", eventData, handler )``, respectively.\n",
    "\n",
    "    - Instead of .blur(), use ``.trigger( \"blur\" )``.\n",
    "- .change()\n",
    "    - Instead of .change( handler ) or .change( eventData, handler ), use ``.on( \"change\", handler )`` or ``.on( \"change\", eventData, handler )``, respectively.\n",
    "\n",
    "    - Instead of .change(), use ``.trigger( \"change\" )``.\n",
    "- .click()\n",
    "    - Instead of .click( handler ) or .click( eventData, handler ), use ``.on( \"click\", handler )`` or ``.on( \"click\", eventData, handler )``, respectively.\n",
    "\n",
    "    - Instead of .click(), use ``.trigger( \"click\" )``.\n",
    "- .contextmenu()\n",
    "    - Instead of .contextmenu( handler ) or .contextmenu( eventData, handler ), use ``.on( \"contextmenu\", handler )`` or ``.on( \"contextmenu\", eventData, handler )``, respectively.\n",
    "\n",
    "    - Instead of .contextmenu(), use ``.trigger( \"contextmenu\" )``.\n",
    "- .dblclick()\n",
    "    - Instead of .dblclick( handler ) or .dblclick( eventData, handler ), use ``.on( \"dblclick\", handler )`` or ``.on( \"dblclick\", eventData, handler )``, respectively.\n",
    "\n",
    "    - Instead of .dblclick(), use ``.trigger( \"dblclick\" )``.\n",
    "- .focus()\n",
    "- .focusin()\n",
    "- .focusout()\n",
    "- .hover()\n",
    "- jQuery.isFunction()\n",
    "- jQuery.isNumeric()\n",
    "- jQuery.isWindow()\n",
    "- jQuery.now()\n",
    "- jQuery.proxy()\n",
    "- jQuery.type()\n",
    "- .keydown()\n",
    "- .keypress()\n",
    "- .keyup()\n",
    "- .mousedown()\n",
    "- .mouseenter()\n",
    "- .mouseleave()\n",
    "- .mousemove()\n",
    "- .mouseout()\n",
    "- .mouseover()\n",
    "- .mouseup()\n",
    "- .resize()\n",
    "- .scroll()\n",
    "- .select()\n",
    "- .submit()"
   ]
  },
  {
   "cell_type": "markdown",
   "metadata": {},
   "source": [
    "### 3.4\n",
    "- :eq() Selector\n",
    "- even Selector\n",
    "- :first Selector\n",
    "- :gt() Selector\n",
    "- :last Selector\n",
    "- :lt() Selector\n",
    "- :odd Selector"
   ]
  },
  {
   "cell_type": "markdown",
   "metadata": {},
   "source": [
    "### 3.5\n",
    "- .ajaxComplete()\n",
    "- .ajaxError()\n",
    "- .ajaxSend()\n",
    "- .ajaxStart()\n",
    "- .ajaxStop()\n",
    "- .ajaxSuccess()\n",
    "- jQuery.trim()"
   ]
  }
 ],
 "metadata": {
  "language_info": {
   "name": "python"
  }
 },
 "nbformat": 4,
 "nbformat_minor": 2
}
