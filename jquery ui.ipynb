{
 "cells": [
  {
   "cell_type": "markdown",
   "metadata": {},
   "source": [
    "https://jqueryui.com/\n",
    "\n",
    "# API documentation Effects\n",
    "- 여기서 다양한 효과를 선택할 수 있다.\n",
    "\n"
   ]
  }
 ],
 "metadata": {
  "language_info": {
   "name": "python"
  }
 },
 "nbformat": 4,
 "nbformat_minor": 2
}
