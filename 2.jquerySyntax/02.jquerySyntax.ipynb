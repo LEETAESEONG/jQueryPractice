{
 "cells": [
  {
   "cell_type": "markdown",
   "metadata": {},
   "source": [
    "# jQuery Syntax\n",
    "```javascript\n",
    "$(선택자).action()\n",
    "\n",
    "$(this).hide()\n",
    "$(\"p\").hide()\n",
    "\n",
    "// class=\"test_class\" 선택\n",
    "$(\".test_class\").hide()\n",
    "\n",
    "// id=\"test_id\" 선택\n",
    "$(\"#test_id\").hide()\n",
    "\n",
    "```"
   ]
  },
  {
   "cell_type": "markdown",
   "metadata": {},
   "source": [
    "### Body 안에 ``<script>``를 써야 하는 경우\n",
    "\n",
    "1. DOM 요소와의 상호작용:\n",
    "    - 스크립트가 HTML에서 해당 스크립트 뒤에 선언된 요소와 상호작용해야 할 때, 요소가 DOM에 완전히 로드된 후에 스크립트가 실행되도록 보장할 수 있습니다.\n",
    "2. 페이지 로드 시간 단축:\n",
    "    - 스크립트가 페이지 로딩을 지연시키지 않도록 하려면, <body>의 맨 아래에 스크립트를 배치하여 페이지 내용이 먼저 로드되도록 할 수 있습니다.\n",
    "3. 종속성 관리:\n",
    "    - 특정 스크립트가 다른 스크립트 또는 콘텐츠가 완전히 로드된 후에 실행되어야 할 때 유용합니다.\n",
    "\n",
    "```html\n",
    "<body>\n",
    "    <h1>jquery first</h1>\n",
    "    <h1>click tag</h1>\n",
    "    <h1>welcome</h1>\n",
    "\n",
    "    <script src=\"https://code.jquery.com/jquery-3.7.1.min.js\" integrity=\"sha256-/JqT3SQfawRcv/BIHPThkBvs0OEvtFFmqPF/lYI/Cxo=\" crossorigin=\"anonymous\"></script>\n",
    "    <script>\n",
    "        $(document).ready(function() {\n",
    "            $(\"h1\").click(function() {\n",
    "                $(this).hide();\n",
    "            });\n",
    "        });\n",
    "    </script>\n",
    "</body>\n",
    "```\n",
    "=> 이런형태로도 사용\n",
    "```html\n",
    "<script>\n",
    "    $(function() {\n",
    "        $(\"h1\").click(function() {\n",
    "            $(this).hide();\n",
    "        });\n",
    "    });\n",
    "</script>\n",
    "```"
   ]
  }
 ],
 "metadata": {
  "language_info": {
   "name": "python"
  }
 },
 "nbformat": 4,
 "nbformat_minor": 2
}
