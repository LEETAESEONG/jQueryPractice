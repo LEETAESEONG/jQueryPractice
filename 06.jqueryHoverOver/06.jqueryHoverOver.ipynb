{
 "cells": [
  {
   "cell_type": "markdown",
   "metadata": {},
   "source": [
    "# mouseover vs hover 이벤트의 차이점\n",
    "### mouseover:\n",
    "- 설명: 마우스 포인터가 특정 요소 또는 그 자식 요소에 진입할 때 발생하는 이벤트.\n",
    "- 특징: 이벤트 핸들러는 한 번 호출됨.\n",
    "- 사용 예:\n",
    "```js\n",
    "$(\"element\").mouseover(function() {\n",
    "    // 이벤트 핸들러\n",
    "});\n",
    "```\n",
    "\n",
    "### hover:\n",
    "- 설명: mouseenter와 mouseleave 이벤트 핸들러를 함께 설정하는 jQuery 메소드.\n",
    "- 특징: 요소에 마우스가 들어올 때와 나갈 때 각각 다른 핸들러를 설정할 수 있음.\n",
    "- 사용 예:\n",
    "```js\n",
    "$(\"element\").hover(\n",
    "  function() {\n",
    "    // mouseenter 핸들러\n",
    "  },\n",
    "  function() {\n",
    "    // mouseleave 핸들러\n",
    "  }\n",
    ");\n",
    "```\n",
    "\n",
    "### 정리\n",
    "- hover는 두 가지 이벤트 핸들러를 설정할 수 있는 편리한 메소드인 반면, mouseover는 단일 이벤트를 처리하는 데 사용됩니다."
   ]
  }
 ],
 "metadata": {
  "language_info": {
   "name": "python"
  }
 },
 "nbformat": 4,
 "nbformat_minor": 2
}
