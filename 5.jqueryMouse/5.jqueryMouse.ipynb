{
 "cells": [
  {
   "cell_type": "markdown",
   "metadata": {},
   "source": [
    "# mouseenter vs mouseover 이벤트의 차이점\n",
    "\n",
    "### mouseenter:\n",
    "- 설명: 마우스 포인터가 특정 요소에 처음 진입할 때 발생.\n",
    "- 특징: 버블링되지 않음. 즉, 자식 요소로 이벤트가 전파되지 않음.\n",
    "\n",
    "### mouseover:\n",
    "- 설명: 마우스 포인터가 특정 요소 또는 그 자식 요소에 진입할 때 발생.\n",
    "- 특징: 버블링됨. 즉, 자식 요소에도 이벤트가 전파됨.\n",
    "\n",
    "### 예시\n",
    "- mouseenter: 상위 요소에 한 번만 발생.\n",
    "- mouseover: 상위 요소와 자식 요소 각각에 발생."
   ]
  }
 ],
 "metadata": {
  "language_info": {
   "name": "python"
  }
 },
 "nbformat": 4,
 "nbformat_minor": 2
}
