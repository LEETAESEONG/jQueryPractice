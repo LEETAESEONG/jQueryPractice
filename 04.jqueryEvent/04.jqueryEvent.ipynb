{
 "cells": [
  {
   "cell_type": "markdown",
   "metadata": {},
   "source": [
    "| 마우스 이벤트 | 키보드 이벤트 | 폼 이벤트 | 윈도우 이벤트 |\n",
    "|--------------|--------------|--------------|--------------|\n",
    "| click | keypress | submit | load |\n",
    "| dblclick | keydown | change | resize |\n",
    "| mouseenter | keyup | focus | scroll |\n",
    "| mouseleave |  | blur | unload |\n",
    "\n",
    "### 마우스 이벤트\n",
    "- click: 마우스를 클릭할 때 발생.\n",
    "- dblclick: 마우스를 더블 클릭할 때 발생.\n",
    "- mouseenter: 마우스가 요소에 들어올 때 발생.\n",
    "- mouseleave: 마우스가 요소를 떠날 때 발생.\n",
    "### 키보드 이벤트\n",
    "- keypress: 키를 누를 때 발생 (Deprecated).\n",
    "- keydown: 키를 누를 때 발생.\n",
    "- keyup: 키를 뗄 때 발생.\n",
    "### 폼 이벤트\n",
    "- submit: 폼이 제출될 때 발생.\n",
    "- change: 폼 요소의 값이 변경될 때 발생.\n",
    "- focus: 폼 요소에 포커스가 갈 때 발생.\n",
    "- blur: 폼 요소에서 포커스가 벗어날 때 발생.\n",
    "### 윈도우 이벤트\n",
    "- load: 페이지가 완전히 로드될 때 발생.\n",
    "- resize: 윈도우 크기가 변경될 때 발생.\n",
    "- scroll: 페이지를 스크롤할 때 발생.\n",
    "- unload: 페이지가 언로드될 때 발생."
   ]
  }
 ],
 "metadata": {
  "language_info": {
   "name": "python"
  }
 },
 "nbformat": 4,
 "nbformat_minor": 2
}
