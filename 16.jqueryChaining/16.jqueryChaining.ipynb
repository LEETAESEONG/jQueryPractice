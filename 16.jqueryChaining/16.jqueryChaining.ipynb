{
 "cells": [
  {
   "cell_type": "markdown",
   "metadata": {},
   "source": [
    "# $(selector).메서드1().메서드2().메서드3();"
   ]
  },
  {
   "cell_type": "code",
   "execution_count": null,
   "metadata": {
    "vscode": {
     "languageId": "javascript"
    }
   },
   "outputs": [],
   "source": [
    "$(function() {\n",
    "    $(\".chain\").css(\"color\", \"blue\");\n",
    "    $(\".chain\").slideDown(3000);\n",
    "    $(\".chain\").slideUp(3000);\n",
    "})"
   ]
  },
  {
   "cell_type": "code",
   "execution_count": null,
   "metadata": {
    "vscode": {
     "languageId": "javascript"
    }
   },
   "outputs": [],
   "source": [
    "$(function() {\n",
    "    $(\".chain\").css(\"color\", \"blue\").slideDown(3000).slideUp(3000);\n",
    "})"
   ]
  },
  {
   "cell_type": "code",
   "execution_count": null,
   "metadata": {
    "vscode": {
     "languageId": "javascript"
    }
   },
   "outputs": [],
   "source": [
    "// 이런 형태도 괜찮다\n",
    "$(function() {\n",
    "    $(\".chain\")\n",
    "        .css(\"color\", \"blue\")\n",
    "        .slideDown(3000)\n",
    "        .slideUp(3000);\n",
    "})"
   ]
  }
 ],
 "metadata": {
  "language_info": {
   "name": "python"
  }
 },
 "nbformat": 4,
 "nbformat_minor": 2
}
