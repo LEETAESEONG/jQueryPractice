{
 "cells": [
  {
   "cell_type": "markdown",
   "metadata": {},
   "source": [
    "### $(selector).stop(stopAll, goToEnd);\n",
    "- 기본 값\n",
    "    - $(selector).stop();\n",
    "    - $(selector).stop(false, false);\n",
    "\n",
    "- stop 작동 원리\n",
    "    - 1 - 진행\n",
    "    - 2 - stop => 10% 20% 진행 하다가 바로 멈춘다.\n",
    "    - 3 - 진행 O\n",
    "    - 4 - 진행 O\n",
    "- 즉 현재 진행중인 animate만 멈추고 나머지는 다시 순차적으로 진행\n"
   ]
  }
 ],
 "metadata": {
  "language_info": {
   "name": "python"
  }
 },
 "nbformat": 4,
 "nbformat_minor": 2
}
